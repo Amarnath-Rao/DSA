{
  "nbformat": 4,
  "nbformat_minor": 0,
  "metadata": {
    "colab": {
      "provenance": []
    },
    "kernelspec": {
      "name": "python3",
      "display_name": "Python 3"
    },
    "language_info": {
      "name": "python"
    }
  },
  "cells": [
    {
      "cell_type": "code",
      "metadata": {
        "colab": {
          "base_uri": "https://localhost:8080/"
        },
        "id": "H69D1a3Js12o",
        "outputId": "8993b054-7b4c-49d8-dcaa-6bc9e62be587"
      },
      "source": [
        "#hello world\n",
        "\n",
        "print('U1tr0n')"
      ],
      "execution_count": null,
      "outputs": [
        {
          "output_type": "stream",
          "name": "stdout",
          "text": [
            "U1tr0n\n"
          ]
        }
      ]
    },
    {
      "cell_type": "code",
      "metadata": {
        "colab": {
          "base_uri": "https://localhost:8080/",
          "height": 34
        },
        "id": "jCHPBsvoYILx",
        "outputId": "f01b490b-59a0-455c-bfdd-713e5a07ec20"
      },
      "source": [
        "\"ak\"+\" \"+\"47\""
      ],
      "execution_count": null,
      "outputs": [
        {
          "output_type": "execute_result",
          "data": {
            "application/vnd.google.colaboratory.intrinsic+json": {
              "type": "string"
            },
            "text/plain": [
              "'ak 47'"
            ]
          },
          "metadata": {},
          "execution_count": 2
        }
      ]
    },
    {
      "cell_type": "code",
      "metadata": {
        "colab": {
          "base_uri": "https://localhost:8080/"
        },
        "id": "6V2zQFvnt_Bi",
        "outputId": "8232d6d8-8411-428d-d189-08357eba5a33"
      },
      "source": [
        "#adding 2 integers\n",
        "\n",
        "a,b=map(int,input().split())\n",
        "print(a+b)"
      ],
      "execution_count": null,
      "outputs": [
        {
          "output_type": "stream",
          "name": "stdout",
          "text": [
            "1 999\n",
            "1000\n"
          ]
        }
      ]
    },
    {
      "cell_type": "code",
      "metadata": {
        "colab": {
          "base_uri": "https://localhost:8080/"
        },
        "id": "_UWOzw-2vCM_",
        "outputId": "328cdb5c-3abe-4ba7-d21a-21c5c8ade80f"
      },
      "source": [
        "#square root\n",
        "\n",
        "a=int(input())\n",
        "print(a**0.5)"
      ],
      "execution_count": null,
      "outputs": [
        {
          "output_type": "stream",
          "name": "stdout",
          "text": [
            "64\n",
            "8.0\n"
          ]
        }
      ]
    },
    {
      "cell_type": "code",
      "metadata": {
        "colab": {
          "base_uri": "https://localhost:8080/"
        },
        "id": "QYrUhcEfuSQf",
        "outputId": "78569a34-6e04-4eac-e896-3145bfb888ad"
      },
      "source": [
        "#square,cube of num [[sqare root(**0.5)]]\n",
        "\n",
        "a=int(input())\n",
        "print(a*a)\n",
        "print(a*a*a)"
      ],
      "execution_count": null,
      "outputs": [
        {
          "output_type": "stream",
          "name": "stdout",
          "text": [
            "2\n",
            "4\n",
            "8\n"
          ]
        }
      ]
    },
    {
      "cell_type": "code",
      "metadata": {
        "colab": {
          "base_uri": "https://localhost:8080/"
        },
        "id": "sTUeLEvcP8F7",
        "outputId": "a7de8c86-34b0-43cf-a714-346f8f5579d6"
      },
      "source": [
        "# area of triangle\n",
        "\n",
        "a,b,c=map(int,input().split())\n",
        "s=(a+b+c)/2\n",
        "x=(s*(s-a)*(s-b)*(s-c))**0.5\n",
        "print(x)"
      ],
      "execution_count": null,
      "outputs": [
        {
          "output_type": "stream",
          "name": "stdout",
          "text": [
            "5 6 7\n",
            "14.696938456699069\n"
          ]
        }
      ]
    },
    {
      "cell_type": "code",
      "metadata": {
        "id": "vjodGF_ZQbNq",
        "colab": {
          "base_uri": "https://localhost:8080/"
        },
        "outputId": "dedf6b84-dd43-4339-b96a-e8fedffa7db0"
      },
      "source": [
        "#solve quadratic equation\n",
        "\n",
        "a,b,c=map(int,input().split())\n",
        "d=((b**2)-4*a*c)\n",
        "x=(-b+((d)**0.5))/(2*a)\n",
        "y=(-b-((d)**0.5))/(2*a)\n",
        "print(x,y)"
      ],
      "execution_count": null,
      "outputs": [
        {
          "output_type": "stream",
          "name": "stdout",
          "text": [
            "2 1 -300\n",
            "12.0 -12.5\n"
          ]
        }
      ]
    },
    {
      "cell_type": "code",
      "metadata": {
        "colab": {
          "base_uri": "https://localhost:8080/"
        },
        "id": "4uVTiTSva4ht",
        "outputId": "96ced0d1-ad57-42a1-ad44-f82e593f78f7"
      },
      "source": [
        "# swap two variables\n",
        "\n",
        "x,y=map(int,input().split())\n",
        "x,y=y,x\n",
        "print(x,y)"
      ],
      "execution_count": null,
      "outputs": [
        {
          "output_type": "stream",
          "name": "stdout",
          "text": [
            "999 1\n",
            "1 999\n"
          ]
        }
      ]
    },
    {
      "cell_type": "code",
      "metadata": {
        "colab": {
          "base_uri": "https://localhost:8080/"
        },
        "id": "NfaqQ17SI8WN",
        "outputId": "41b362e4-7494-436c-db53-fbc8099562ad"
      },
      "source": [
        "# prime number\n",
        "\n",
        "n=int(input())\n",
        "x=False\n",
        "if n>1:\n",
        "  for i in range(2,n):\n",
        "    if n%i==0:\n",
        "      x=True\n",
        "    break\n",
        "if x:\n",
        "  print('not a prime number')\n",
        "else:\n",
        "  print('prime number')"
      ],
      "execution_count": null,
      "outputs": [
        {
          "output_type": "stream",
          "name": "stdout",
          "text": [
            "2\n",
            "prime number\n"
          ]
        }
      ]
    },
    {
      "cell_type": "code",
      "metadata": {
        "colab": {
          "base_uri": "https://localhost:8080/"
        },
        "id": "msMzz8jRJAF1",
        "outputId": "00a4b3b4-9e13-4835-82a4-632016f8aa58"
      },
      "source": [
        "# Armstrong number\n",
        "\n",
        "n=int(input())\n",
        "x=0\n",
        "y=n\n",
        "while y>0:\n",
        "  z=y%10\n",
        "  x+=z**3\n",
        "  y//=10\n",
        "if x==n:\n",
        "  print('Armstrong number')\n",
        "else:\n",
        "  print('not a Armstrong number')"
      ],
      "execution_count": null,
      "outputs": [
        {
          "output_type": "stream",
          "name": "stdout",
          "text": [
            "153\n",
            "Armstrong number\n"
          ]
        }
      ]
    },
    {
      "cell_type": "code",
      "metadata": {
        "colab": {
          "base_uri": "https://localhost:8080/"
        },
        "id": "AQoDY1k0JAym",
        "outputId": "de1a3c97-2cbe-4440-ca92-c68b700b2df7"
      },
      "source": [
        "# factorial\n",
        "\n",
        "n=int(input())\n",
        "x=1\n",
        "\n",
        "if n<0:\n",
        "   print('no factorial')\n",
        "elif n==0:\n",
        "   print('1')\n",
        "else:\n",
        "   for i in range(1,n+1):\n",
        "       x=x*i\n",
        "   print(x)"
      ],
      "execution_count": null,
      "outputs": [
        {
          "output_type": "stream",
          "name": "stdout",
          "text": [
            "8\n",
            "40320\n"
          ]
        }
      ]
    },
    {
      "cell_type": "code",
      "metadata": {
        "colab": {
          "base_uri": "https://localhost:8080/"
        },
        "id": "2nWacPmm6Q5k",
        "outputId": "b5d5bcb4-413c-4c39-ac76-f8c850e76df3"
      },
      "source": [
        "# reverse a input[main]\n",
        "\n",
        "x=input()\n",
        "y=x[::-1]\n",
        "print(y)"
      ],
      "execution_count": null,
      "outputs": [
        {
          "output_type": "stream",
          "name": "stdout",
          "text": [
            "abcd\n",
            "dcba\n"
          ]
        }
      ]
    },
    {
      "cell_type": "code",
      "metadata": {
        "colab": {
          "base_uri": "https://localhost:8080/"
        },
        "id": "V061QwO542PR",
        "outputId": "4d2adcd3-b7bc-4ad2-e780-cfbc518cb67e"
      },
      "source": [
        "#reverse a string\n",
        "\n",
        "def reverse_string(str):\n",
        "  str1=''\n",
        "  for i in str:\n",
        "    str1=i+str1\n",
        "  return str1\n",
        "\n",
        "str=input()\n",
        "print(reverse_string(str))"
      ],
      "execution_count": null,
      "outputs": [
        {
          "output_type": "stream",
          "name": "stdout",
          "text": [
            "abcd\n",
            "dcba\n"
          ]
        }
      ]
    },
    {
      "cell_type": "code",
      "metadata": {
        "id": "IAsrRxeF57jK",
        "colab": {
          "base_uri": "https://localhost:8080/"
        },
        "outputId": "3929b145-2491-4683-c717-fc44907924cc"
      },
      "source": [
        "# reverse a list\n",
        "\n",
        "x=list(map(int, input().split()))\n",
        "x.reverse()\n",
        "print(x)"
      ],
      "execution_count": null,
      "outputs": [
        {
          "output_type": "stream",
          "name": "stdout",
          "text": [
            "1 2 3 4\n",
            "[4, 3, 2, 1]\n"
          ]
        }
      ]
    },
    {
      "cell_type": "code",
      "source": [
        "#{Md_trls\n",
        "\n",
        "n=list(map(int,input().split()))\n",
        "print(n)\n",
        "if n[0]==n[-1]:\n",
        "  print('same')"
      ],
      "metadata": {
        "colab": {
          "base_uri": "https://localhost:8080/"
        },
        "id": "mq_PEr-nbe09",
        "outputId": "7b446c5c-2ea7-48ae-bc8c-0e561e7afb8c"
      },
      "execution_count": null,
      "outputs": [
        {
          "output_type": "stream",
          "name": "stdout",
          "text": [
            "1 2 3 4 1\n",
            "[1, 2, 3, 4, 1]\n",
            "same\n"
          ]
        }
      ]
    },
    {
      "cell_type": "code",
      "source": [
        "n=input()\n",
        "t=('a','e','i','o','u')\n",
        "x=0\n",
        "for i in n:\n",
        "  if i in t:\n",
        "    x+=1\n",
        "print(x)"
      ],
      "metadata": {
        "colab": {
          "base_uri": "https://localhost:8080/"
        },
        "id": "OS8dgV9IcK7j",
        "outputId": "6d873b05-137c-4853-a113-1a3ae45eb929"
      },
      "execution_count": null,
      "outputs": [
        {
          "output_type": "stream",
          "name": "stdout",
          "text": [
            "codeforces\n",
            "4\n"
          ]
        }
      ]
    },
    {
      "cell_type": "code",
      "source": [
        "s=input()\n",
        "p='aaa'\n",
        "r='bbb'\n",
        "c=0\n",
        "if p in s or r in s:\n",
        "  c=c+1\n",
        "if c >= 1 :\n",
        "  print(\"Yes\")\n",
        "else:\n",
        "  print(\"No\")"
      ],
      "metadata": {
        "colab": {
          "base_uri": "https://localhost:8080/"
        },
        "id": "XdQaj0jyGBcz",
        "outputId": "8ea19b80-18d8-436a-a192-9dc501a52d85"
      },
      "execution_count": null,
      "outputs": [
        {
          "output_type": "stream",
          "name": "stdout",
          "text": [
            "aaaxbbb\n",
            "Yes\n"
          ]
        }
      ]
    },
    {
      "cell_type": "code",
      "source": [
        "n=list(map(int,input().split()))\n",
        "x=int(input())\n",
        "t=len(n)\n",
        "for i in range(t):\n",
        "  if n[i]==x:\n",
        "    n[i]=100\n",
        "  else:\n",
        "    continue\n",
        "print(n)"
      ],
      "metadata": {
        "colab": {
          "base_uri": "https://localhost:8080/"
        },
        "id": "CVATVA9D_BCZ",
        "outputId": "3522ab72-7813-4218-e6d0-56ed1aae47d1"
      },
      "execution_count": null,
      "outputs": [
        {
          "output_type": "stream",
          "name": "stdout",
          "text": [
            "2 3 4 5 6 7\n",
            "5\n",
            "[2, 3, 4, 100, 6, 7]\n"
          ]
        }
      ]
    },
    {
      "cell_type": "code",
      "source": [
        "n=list(map(int,input().split()))\n",
        "x=0\n",
        "t=len(n)\n",
        "for i in range(t):\n",
        "  if (n.index(n[i])%2)==0:\n",
        "    x+=n[i]\n",
        "  else:\n",
        "    continue\n",
        "print(x)\n",
        "\n",
        "#Md_trls}"
      ],
      "metadata": {
        "colab": {
          "base_uri": "https://localhost:8080/"
        },
        "id": "Bc4q6aVuTG2K",
        "outputId": "c04b036b-0c0c-4732-c0d7-603cc39cc8b9"
      },
      "execution_count": null,
      "outputs": [
        {
          "output_type": "stream",
          "name": "stdout",
          "text": [
            "10 20 30 40\n",
            "40\n"
          ]
        }
      ]
    },
    {
      "cell_type": "code",
      "source": [],
      "metadata": {
        "id": "ttNiCc1Nqi-8"
      },
      "execution_count": null,
      "outputs": []
    },
    {
      "cell_type": "code",
      "source": [
        "# (reverse num) (diff btw array and list) (diff btw break and continue)\n",
        "# (###pinne string operators###) (string operations) (list operations)\n",
        "# (diff btw append and extend) (prime no btw 1 and 20)\n",
        "# (diff btw tuple and list) (fibonnaci sequence without def)\n",
        "# (data type) (string operators and methods) (diff btw '/' and '//')\n",
        "# (diff btw lists,array and tuples) (wht is operator)\n",
        "# (datatypes,keywords,str method) (reverse str prog)\n",
        "# (what is string operators what is difference between array and list)\n",
        "# (what are logical operator and what are assignment operator)\n",
        "# ( find the sum of n natural numbers using recursion)\n",
        "#(whether a number is prime or not, it should say is it a prime or not)"
      ],
      "metadata": {
        "id": "umvXpKFngviD"
      },
      "execution_count": null,
      "outputs": []
    },
    {
      "cell_type": "code",
      "source": [
        "#ANS:-\n",
        "#['/' division and '//' quotient]\n",
        "#[= is assignment operator. == is equality comparison operator]\n",
        "#[The break statement is used to exit the loop even if the while condition is true]\n",
        "#[The continue statement is used to skip the remaining statements and go to the beginning of the loop]\n",
        "# Hint :: x+=1 for x=0, x+=i for x='' , x+=[i] or n[i] for x=[]\n",
        "#[key words ==> True False None and or not in is if elif else for while def class return from ]\n",
        "#[]"
      ],
      "metadata": {
        "id": "TYq8Wz92p697"
      },
      "execution_count": null,
      "outputs": []
    },
    {
      "cell_type": "code",
      "source": [
        "#Some questions of PSAT from other section\n",
        "#What are string operators\n",
        "#What are string meathods\n",
        "#Difference between '/' and '//'\n",
        "#Difference between lists and arrays, tuples\n",
        "#What is operator\n",
        "#whatis datatype"
      ],
      "metadata": {
        "id": "CdrDNPjYUOUr"
      },
      "execution_count": null,
      "outputs": []
    },
    {
      "cell_type": "code",
      "source": [
        "#kings race, good num, find divisible, array stab, unimodel, lesha, police rec, rank"
      ],
      "metadata": {
        "id": "hsb5NQG2f36q"
      },
      "execution_count": null,
      "outputs": []
    },
    {
      "cell_type": "code",
      "execution_count": null,
      "metadata": {
        "colab": {
          "base_uri": "https://localhost:8080/"
        },
        "id": "sTY4CbR1-hKL",
        "outputId": "bed8a00b-cf93-4035-fb8f-abc071fb5ce3"
      },
      "outputs": [
        {
          "output_type": "stream",
          "name": "stdout",
          "text": [
            "@\n"
          ]
        }
      ],
      "source": [
        "print('@')"
      ]
    },
    {
      "cell_type": "code",
      "metadata": {
        "colab": {
          "base_uri": "https://localhost:8080/"
        },
        "outputId": "79c7a16c-78a4-4897-af78-199c99c36a35",
        "id": "edozpJYPqjG3"
      },
      "source": [
        "# reverse a input[main]\n",
        "\n",
        "x=input()\n",
        "y=x[::-1]\n",
        "print(y)"
      ],
      "execution_count": null,
      "outputs": [
        {
          "output_type": "stream",
          "name": "stdout",
          "text": [
            "abcd\n",
            "dcba\n"
          ]
        }
      ]
    },
    {
      "cell_type": "code",
      "metadata": {
        "colab": {
          "base_uri": "https://localhost:8080/"
        },
        "outputId": "18863a2b-fe3d-4613-f7cf-1f25c62ff67d",
        "id": "lunYADBAqjG4"
      },
      "source": [
        "#reverse a string\n",
        "\n",
        "def reverse_string(str):\n",
        "  str1=''\n",
        "  for i in str:\n",
        "    str1=i+str1\n",
        "  return str1\n",
        "\n",
        "str=input()\n",
        "print(reverse_string(str))"
      ],
      "execution_count": null,
      "outputs": [
        {
          "output_type": "stream",
          "name": "stdout",
          "text": [
            "abcd\n",
            "dcba\n"
          ]
        }
      ]
    },
    {
      "cell_type": "code",
      "metadata": {
        "colab": {
          "base_uri": "https://localhost:8080/"
        },
        "outputId": "f0d9866b-dcb2-4e16-d78e-212521d14cd7",
        "id": "sDvEsYULqjG4"
      },
      "source": [
        "# reverse a list\n",
        "\n",
        "x=list(map(int, input().split()))\n",
        "x.reverse()\n",
        "print(x)"
      ],
      "execution_count": null,
      "outputs": [
        {
          "output_type": "stream",
          "name": "stdout",
          "text": [
            "1 2 3 4\n",
            "[4, 3, 2, 1]\n"
          ]
        }
      ]
    },
    {
      "cell_type": "code",
      "source": [
        "for k in range(1,21):\n",
        "  x=0\n",
        "  for i in range(2,k):\n",
        "    if k%i==0:\n",
        "      x+=1\n",
        "  if x==0 and k!=1:\n",
        "    print(k,end=' ')"
      ],
      "metadata": {
        "colab": {
          "base_uri": "https://localhost:8080/"
        },
        "id": "kFuGXKQMEq4r",
        "outputId": "291cee30-c4ed-4fde-8b5f-d3964b9fc9d8"
      },
      "execution_count": null,
      "outputs": [
        {
          "output_type": "stream",
          "name": "stdout",
          "text": [
            "2 3 5 7 11 13 17 19 "
          ]
        }
      ]
    },
    {
      "cell_type": "code",
      "source": [
        "n=int(input())\n",
        "a,b,c=0,1,0\n",
        "if n==1:\n",
        "  print(a)\n",
        "else:\n",
        "  while c<n:\n",
        "    print(a,end=' ')\n",
        "    d=a+b\n",
        "    a=b\n",
        "    b=d\n",
        "    c+=1"
      ],
      "metadata": {
        "colab": {
          "base_uri": "https://localhost:8080/"
        },
        "id": "JMQKnxbDFMpw",
        "outputId": "96eb366e-55fc-45fb-e43f-61a2c335754a"
      },
      "execution_count": null,
      "outputs": [
        {
          "output_type": "stream",
          "name": "stdout",
          "text": [
            "15\n",
            "0 1 1 2 3 5 8 13 21 34 55 89 144 233 377 "
          ]
        }
      ]
    },
    {
      "cell_type": "code",
      "source": [
        "n=int(input())\n",
        "x=0\n",
        "for i in range(2,n):\n",
        "  if n%i==0:\n",
        "    x+=1\n",
        "if x!=1:\n",
        "  print('prime')\n",
        "else:\n",
        "  print('non prime')"
      ],
      "metadata": {
        "colab": {
          "base_uri": "https://localhost:8080/"
        },
        "outputId": "0aa69ce3-e4ad-4bbe-c975-7b91b7fbf1d9",
        "id": "d6gOXZS4rFH5"
      },
      "execution_count": null,
      "outputs": [
        {
          "output_type": "stream",
          "name": "stdout",
          "text": [
            "2\n",
            "prime\n"
          ]
        }
      ]
    }
  ]
}